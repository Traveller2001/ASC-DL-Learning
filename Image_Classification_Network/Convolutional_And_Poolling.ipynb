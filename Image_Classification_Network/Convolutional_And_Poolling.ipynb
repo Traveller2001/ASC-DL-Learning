{
 "cells": [
  {
   "cell_type": "markdown",
   "metadata": {},
   "source": [
    "# Convolutional Layel\n",
    "- 为了操作方便，ML中的二维卷积做的其实是二维交叉相关\n",
    "- 卷积层所做的即是在提取卷积核所对应的特征\n",
    "- 其超参数包括核(kernel)的大小、填充(padding)、步幅(stride)\n",
    "## 多通道输入输出\n",
    "- 多通道输入可以用不同的卷积核对其进行特征提取\n",
    "- 1*1的卷积核不做空间识别，可以做通道融合，相当于全连接层"
   ]
  },
  {
   "cell_type": "markdown",
   "metadata": {},
   "source": [
    "# Poolling Layer（缓解卷积层对位置的敏感性）\n",
    "- 最大池化层，取像素值最大值，达到将强信号进行偏移的作用\n",
    "- 平均池化层"
   ]
  }
 ],
 "metadata": {
  "language_info": {
   "name": "python"
  },
  "orig_nbformat": 4
 },
 "nbformat": 4,
 "nbformat_minor": 2
}
